{
  "cells": [
    {
      "cell_type": "markdown",
      "metadata": {
        "id": "HPczI1Nefah7"
      },
      "source": [
        "Libraries"
      ]
    },
    {
      "cell_type": "code",
      "execution_count": null,
      "metadata": {
        "colab": {
          "base_uri": "https://localhost:8080/"
        },
        "id": "56SyLmJDffbj",
        "outputId": "96ffd98a-2347-40fc-fd28-f40131319312"
      },
      "outputs": [],
      "source": [
        "!pip install geopandas"
      ]
    },
    {
      "cell_type": "code",
      "execution_count": 1,
      "metadata": {
        "colab": {
          "base_uri": "https://localhost:8080/"
        },
        "id": "kUg7H8Q7faiB",
        "outputId": "1f2b4c42-3f2e-4fdf-f7e1-9f5c4446b960"
      },
      "outputs": [
        {
          "name": "stdout",
          "output_type": "stream",
          "text": [
            "Libraries imported succesfully\n"
          ]
        }
      ],
      "source": [
        "import geopandas as gpd\n",
        "import pandas as pd\n",
        "from sklearn.preprocessing import LabelEncoder\n",
        "import numpy as np\n",
        "from datetime import datetime,date \n",
        "\n",
        "from sklearn.neighbors import KNeighborsClassifier\n",
        "from sklearn.impute import KNNImputer\n",
        "from sklearn.metrics import accuracy_score\n",
        "from sklearn.model_selection import train_test_split\n",
        "\n",
        "print('Libraries imported succesfully')"
      ]
    },
    {
      "cell_type": "markdown",
      "metadata": {
        "id": "csTXnJvkfaiH"
      },
      "source": [
        "Maps"
      ]
    },
    {
      "cell_type": "code",
      "execution_count": 2,
      "metadata": {
        "colab": {
          "base_uri": "https://localhost:8080/"
        },
        "id": "p2t6g5jHfaiI",
        "outputId": "24d2b15d-ca1d-44a6-ae8e-2fd0bd05be20"
      },
      "outputs": [
        {
          "name": "stdout",
          "output_type": "stream",
          "text": [
            "Maps seted succesfully\n"
          ]
        }
      ],
      "source": [
        "change_type_map = {'Demolition': 0, 'Road': 1, 'Residential': 2, 'Commercial': 3, 'Industrial': 4,\n",
        "       'Mega Projects': 5}\n",
        "\n",
        "\n",
        "change_status_date0_map = {'Construction Done': 10, 'Construction Midway': 1, \n",
        "                           'Prior Construction': 2, 'Materials Dumped': 3, 'Land Cleared': 4, \n",
        "                           'Operational': 5, 'Construction Started': 6, 'Greenland': 7, \n",
        "                           'Excavation': 8, 'Materials Introduced': 9, 0: 0}\n",
        "\n",
        "print('Maps seted succesfully')"
      ]
    },
    {
      "cell_type": "code",
      "execution_count": 3,
      "metadata": {
        "colab": {
          "base_uri": "https://localhost:8080/"
        },
        "id": "pI5ZgoxbfaiJ",
        "outputId": "753c8ebc-879a-4243-acb9-12e340316bd6"
      },
      "outputs": [
        {
          "name": "stdout",
          "output_type": "stream",
          "text": [
            "dataset imported succesfully\n"
          ]
        }
      ],
      "source": [
        "## Read csvs\n",
        "train_path = 'train.geojson'\n",
        "test_path = 'test.geojson'\n",
        "train_df = gpd.read_file(train_path, index_col=0)\n",
        "test_df = gpd.read_file(test_path, index_col=0)\n",
        "\n",
        "print('dataset imported succesfully')"
      ]
    },
    {
      "cell_type": "markdown",
      "metadata": {
        "id": "2ASH4BDSfaiJ"
      },
      "source": [
        "Dealing with null values"
      ]
    },
    {
      "cell_type": "code",
      "execution_count": 4,
      "metadata": {
        "colab": {
          "base_uri": "https://localhost:8080/"
        },
        "id": "s7A1vPacfaiK",
        "outputId": "c6135f5d-9bba-4c59-9354-a2e6ace43ecb"
      },
      "outputs": [
        {
          "name": "stdout",
          "output_type": "stream",
          "text": [
            "all nul values are set to zero\n"
          ]
        }
      ],
      "source": [
        "train_df = train_df.fillna(0)\n",
        "test_df = test_df.fillna(0)\n",
        "\n",
        "print('all nul values are set to zero')"
      ]
    },
    {
      "cell_type": "markdown",
      "metadata": {
        "id": "qWVbJGthfaiK"
      },
      "source": [
        "Debugging cell\n"
      ]
    },
    {
      "cell_type": "code",
      "execution_count": 5,
      "metadata": {
        "id": "rzE79v2hfaiL"
      },
      "outputs": [],
      "source": [
        "# L = list(train_df.items())\n",
        "# print(type(train_df))"
      ]
    },
    {
      "cell_type": "markdown",
      "metadata": {
        "id": "d6xymONtfaiL"
      },
      "source": [
        "Training dataset preprocessing"
      ]
    },
    {
      "cell_type": "code",
      "execution_count": 6,
      "metadata": {
        "id": "D4xX63EwfaiM"
      },
      "outputs": [],
      "source": [
        "urban_type = ['Sparse Urban', 'Rural', 'Urban Slum', 'Industrial', 'Dense Urban', 'N,A']\n",
        "geography_type = ['Barren Land', 'Dense Forest', 'River', 'Coastal', 'Desert', 'Grass Land', 'Hills', 'Snow', 'Lakes', 'Sparse Forest', 'Farms', 'N,A']\n",
        "\n",
        "train_urb = []\n",
        "train_geo = []\n",
        "\n",
        "URB = list(train_df['urban_type'])\n",
        "GEO = list(train_df['geography_type'])\n",
        "\n",
        "for feat in URB :\n",
        "    k = []\n",
        "    for fu in urban_type :\n",
        "        k += [1 if fu in feat  else 0]\n",
        "    train_urb.append(k)\n",
        "\n",
        "for feat in GEO :\n",
        "    k = []\n",
        "    for fu in geography_type :\n",
        "        k += [1 if fu in feat  else 0]\n",
        "    train_geo.append(k)\n",
        "\n",
        "\n"
      ]
    },
    {
      "cell_type": "code",
      "execution_count": 7,
      "metadata": {
        "id": "46tCUepbfaiM"
      },
      "outputs": [],
      "source": [
        "def calcul_time (date_string) :\n",
        "    if date_string==0:\n",
        "        return 0\n",
        "    else:\n",
        "        # convert the date string to a date object\n",
        "        date_object = datetime.strptime(date_string, \"%d-%m-%Y\").date()\n",
        "        # convert the date object to the number of days\n",
        "        number_of_days = (date_object - date(2000,1,1)).days\n",
        "        return(number_of_days)\n",
        "\n",
        "def change_columns(table):\n",
        "    n,p=table.shape\n",
        "    train_x_time=np.empty((n,1))\n",
        "    Columns=table.columns\n",
        "    for i in range(1,p-1):\n",
        "        l=table[Columns[i]]\n",
        "        if Columns[i] in ['date1','date2','date3','date4','date5']:\n",
        "            train_xi=np.asarray(l.apply(lambda x: calcul_time(x))).reshape(-1,1)\n",
        "            train_x_time=np.concatenate((train_x_time,train_xi),axis=1)\n",
        "    return train_x_time"
      ]
    },
    {
      "cell_type": "code",
      "execution_count": null,
      "metadata": {},
      "outputs": [],
      "source": [
        "train_geo1 = np.asarray(train_df[['geometry']].area).reshape(-1,1)\n",
        "# train_geo2 = np.asarray(train_df[['geometry']].bounds).reshape(-1,1)\n",
        "train_geo3 = np.asarray(train_df[['geometry']].length).reshape(-1,1)\n",
        "train_geo4 = np.asarray(train_df[['geometry']].centroid.x).reshape(-1,1)\n",
        "train_geo5 = np.asarray(train_df[['geometry']].centroid.y).reshape(-1,1)\n",
        "# train_geo5 = np.asarray(train_df[['geometry']].interiors).reshape(-1,1)\n",
        "# train_geo6 = np.asarray(train_df[['geometry']].exterior).reshape(-1,1)\n",
        "# train_geo7 = np.asarray(train_df[['geometry']].representative_point).reshape(-1,1)\n",
        "# train_geo8 = np.asarray(train_df[['geometry']].envelope).reshape(-1,1)\n",
        "# train_geo9 = np.asarray(train_df[['geometry']].convex_hull).reshape(-1,1)\n",
        "train_geo0 = np.asarray(train_df[['geometry']].boundary.length).reshape(-1,1)\n",
        "\n",
        "train_x9 = np.concatenate((train_geo1,train_geo3,train_geo4,train_geo5,train_geo0),axis=1)"
      ]
    },
    {
      "cell_type": "code",
      "execution_count": 35,
      "metadata": {
        "colab": {
          "base_uri": "https://localhost:8080/"
        },
        "id": "3At0Q5HLfaiN",
        "outputId": "94e98c1f-1371-48b9-984a-fd41233ff531"
      },
      "outputs": [
        {
          "name": "stdout",
          "output_type": "stream",
          "text": [
            "maps applied succesfully to trainning dataset\n"
          ]
        }
      ],
      "source": [
        "train_x0 = np.asarray(train_df['change_status_date0'].apply(lambda x: change_status_date0_map[x])).reshape(-1,1)\n",
        "train_x1 = np.asarray(train_df['change_status_date1'].apply(lambda x: change_status_date0_map[x])).reshape(-1,1)\n",
        "train_x2 = np.asarray(train_df['change_status_date2'].apply(lambda x: change_status_date0_map[x])).reshape(-1,1)\n",
        "train_x3 = np.asarray(train_df['change_status_date3'].apply(lambda x: change_status_date0_map[x])).reshape(-1,1)\n",
        "train_x4 = np.asarray(train_df['change_status_date4'].apply(lambda x: change_status_date0_map[x])).reshape(-1,1)\n",
        "\n",
        "# train_x5 = np.asarray(train_df['urban_type'].apply(lambda x: urban_type_map[x])).reshape(-1,1)\n",
        "\n",
        "\n",
        "train_x_time = change_columns(train_df)\n",
        "\n",
        "train_x=np.concatenate((train_urb,train_geo,train_x9,train_x0,train_x1,train_x2,train_x3,train_x4,train_x_time),axis=1)\n",
        "\n",
        "print('maps applied succesfully to trainning dataset')"
      ]
    },
    {
      "cell_type": "code",
      "execution_count": 36,
      "metadata": {
        "id": "6NcRTGKmfaiO"
      },
      "outputs": [],
      "source": [
        "FEATURES = ['img_red_mean_date1', 'img_green_mean_date1', 'img_blue_mean_date1', 'img_red_std_date1', 'img_green_std_date1', 'img_blue_std_date1', 'img_red_mean_date2', 'img_green_mean_date2', 'img_blue_mean_date2', 'img_red_std_date2', 'img_green_std_date2', 'img_blue_std_date2', 'img_red_mean_date3', 'img_green_mean_date3', 'img_blue_mean_date3', 'img_red_std_date3', 'img_green_std_date3', 'img_blue_std_date3', 'img_red_mean_date4', 'img_green_mean_date4', 'img_blue_mean_date4', 'img_red_std_date4', 'img_green_std_date4', 'img_blue_std_date4', 'img_red_mean_date5', 'img_green_mean_date5', 'img_blue_mean_date5', 'img_red_std_date5', 'img_green_std_date5', 'img_blue_std_date5']"
      ]
    },
    {
      "cell_type": "code",
      "execution_count": 37,
      "metadata": {
        "id": "noQLkQCCfaiP"
      },
      "outputs": [],
      "source": [
        "for f in FEATURES :\n",
        "    newtrain = np.asarray(train_df[[f]]).reshape(-1,1)\n",
        "    train_x=np.concatenate((train_x,newtrain),axis=1)\n"
      ]
    },
    {
      "cell_type": "code",
      "execution_count": 38,
      "metadata": {
        "colab": {
          "base_uri": "https://localhost:8080/"
        },
        "id": "ple4p0uffaiQ",
        "outputId": "411b1fad-0fe0-4331-b919-a8402a26f9d6"
      },
      "outputs": [
        {
          "name": "stdout",
          "output_type": "stream",
          "text": [
            "output selected succesfully\n"
          ]
        }
      ],
      "source": [
        "## Filtering column \"mail_type\"\n",
        "train_y = train_df['change_type'].apply(lambda x: change_type_map[x])\n",
        "\n",
        "print('output selected succesfully')"
      ]
    },
    {
      "cell_type": "markdown",
      "metadata": {
        "id": "juELNfhIfaiQ"
      },
      "source": [
        "Test dataset"
      ]
    },
    {
      "cell_type": "code",
      "execution_count": 39,
      "metadata": {
        "id": "zR_QvtR1faiR"
      },
      "outputs": [],
      "source": [
        "test_urb = []\n",
        "test_geo = []\n",
        "\n",
        "URB = list(test_df['urban_type'])\n",
        "GEO = list(test_df['geography_type'])\n",
        "\n",
        "for feat in URB :\n",
        "    k = []\n",
        "    for fu in urban_type :\n",
        "        k += [1 if fu in feat  else 0]\n",
        "    test_urb.append(k)\n",
        "\n",
        "for feat in GEO :\n",
        "    k = []\n",
        "    for fu in geography_type :\n",
        "        k += [1 if fu in feat  else 0]\n",
        "    test_geo.append(k)"
      ]
    },
    {
      "cell_type": "code",
      "execution_count": null,
      "metadata": {},
      "outputs": [],
      "source": [
        "test_geo1 = np.asarray(test_df[['geometry']].area).reshape(-1,1)\n",
        "# test_geo2 = np.asarray(test_df[['geometry']].bounds).reshape(-1,1)\n",
        "test_geo3 = np.asarray(test_df[['geometry']].length).reshape(-1,1)\n",
        "test_geo4 = np.asarray(test_df[['geometry']].centroid.x).reshape(-1,1)\n",
        "test_geo5 = np.asarray(test_df[['geometry']].centroid.y).reshape(-1,1)\n",
        "# test_geo6 = np.asarray(test_df[['geometry']].exterior).reshape(-1,1)\n",
        "# test_geo7 = np.asarray(test_df[['geometry']].representative_point).reshape(-1,1)\n",
        "# test_geo8 = np.asarray(test_df[['geometry']].envelope).reshape(-1,1)\n",
        "# test_geo9 = np.asarray(test_df[['geometry']].convex_hull).reshape(-1,1)\n",
        "test_geo0 = np.asarray(test_df[['geometry']].boundary.length).reshape(-1,1)\n",
        "\n",
        "test_x9 = np.concatenate((test_geo1, test_geo3, test_geo4, test_geo5, test_geo0), axis=1)"
      ]
    },
    {
      "cell_type": "code",
      "execution_count": 54,
      "metadata": {},
      "outputs": [
        {
          "name": "stdout",
          "output_type": "stream",
          "text": [
            "[<LINEARRING (2.903 35.431, 2.903 35.431, 2.903 35.431, 2.903 35.431, 2.903 3...>]\n"
          ]
        }
      ],
      "source": [
        "test_geo6 = np.asarray(test_df[['geometry']].exterior).reshape(-1,1)\n",
        "print(test_geo6[0])"
      ]
    },
    {
      "cell_type": "code",
      "execution_count": 42,
      "metadata": {
        "colab": {
          "base_uri": "https://localhost:8080/"
        },
        "id": "4SLWnYPkfaiR",
        "outputId": "3181e3dd-7176-4db6-ab9a-ff3fb762119a"
      },
      "outputs": [
        {
          "name": "stdout",
          "output_type": "stream",
          "text": [
            "maps applied succesfully to testing dataset\n"
          ]
        }
      ],
      "source": [
        "test_x0 = np.asarray(test_df['change_status_date0'].apply(lambda x: change_status_date0_map[x])).reshape(-1,1)\n",
        "test_x1 = np.asarray(test_df['change_status_date1'].apply(lambda x: change_status_date0_map[x])).reshape(-1,1)\n",
        "test_x2 = np.asarray(test_df['change_status_date2'].apply(lambda x: change_status_date0_map[x])).reshape(-1,1)\n",
        "test_x3 = np.asarray(test_df['change_status_date3'].apply(lambda x: change_status_date0_map[x])).reshape(-1,1)\n",
        "test_x4 = np.asarray(test_df['change_status_date4'].apply(lambda x: change_status_date0_map[x])).reshape(-1,1)\n",
        "\n",
        "# test_x5 = np.asarray(test_df['urban_type'].apply(lambda x: urban_type_map[x])).reshape(-1,1)\n",
        "\n",
        "\n",
        "\n",
        "test_x_time = change_columns(test_df)\n",
        "\n",
        "test_x = np.concatenate((test_urb, test_geo, test_x9, test_x0, test_x1, test_x2, test_x3, test_x4, test_x_time), axis=1)\n",
        "\n",
        "\n",
        "print('maps applied succesfully to testing dataset')"
      ]
    },
    {
      "cell_type": "code",
      "execution_count": 43,
      "metadata": {
        "id": "xSqfK91ofaiS"
      },
      "outputs": [],
      "source": [
        "for f in FEATURES :\n",
        "    newtest = np.asarray(test_df[[f]]).reshape(-1,1)\n",
        "    test_x = np.concatenate((test_x,newtest), axis=1)"
      ]
    },
    {
      "cell_type": "code",
      "execution_count": 44,
      "metadata": {
        "colab": {
          "base_uri": "https://localhost:8080/"
        },
        "id": "I2rskZ0GfaiS",
        "outputId": "e8ad1198-93df-4b5e-a383-c0b23432212b"
      },
      "outputs": [
        {
          "name": "stdout",
          "output_type": "stream",
          "text": [
            "(296146, 63) (296146,) (120526, 63)\n"
          ]
        }
      ],
      "source": [
        "print (train_x.shape, train_y.shape, test_x.shape)"
      ]
    },
    {
      "cell_type": "markdown",
      "metadata": {
        "id": "jSrvabOsfaiV"
      },
      "source": [
        "Model"
      ]
    },
    {
      "cell_type": "markdown",
      "metadata": {
        "id": "OWawSrwQfaiZ"
      },
      "source": [
        "Random Forest"
      ]
    },
    {
      "cell_type": "code",
      "execution_count": 46,
      "metadata": {
        "id": "iNBS8bqzfaiZ"
      },
      "outputs": [],
      "source": [
        "from sklearn.ensemble import RandomForestClassifier\n",
        "from sklearn.metrics import accuracy_score\n",
        "\n",
        "# Create an instance of the RandomForestClassifier\n",
        "clf = RandomForestClassifier(n_estimators=200, random_state=42)\n",
        "\n",
        "# Fit the model on the training data\n",
        "clf.fit(train_x, train_y)\n",
        "\n",
        "# Make predictions on the testing data\n",
        "pred_y = clf.predict(test_x)\n"
      ]
    }
  ],
  "metadata": {
    "accelerator": "GPU",
    "colab": {
      "provenance": []
    },
    "gpuClass": "standard",
    "kernelspec": {
      "display_name": "Python 3",
      "language": "python",
      "name": "python3"
    },
    "language_info": {
      "codemirror_mode": {
        "name": "ipython",
        "version": 3
      },
      "file_extension": ".py",
      "mimetype": "text/x-python",
      "name": "python",
      "nbconvert_exporter": "python",
      "pygments_lexer": "ipython3",
      "version": "3.9.7"
    },
    "orig_nbformat": 4,
    "vscode": {
      "interpreter": {
        "hash": "e89691e4663d647bc11c8a9859f5cdd56224e794f653bdd6c406cd9780fe241b"
      }
    }
  },
  "nbformat": 4,
  "nbformat_minor": 0
}
